{
  "nbformat": 4,
  "nbformat_minor": 0,
  "metadata": {
    "colab": {
      "name": "FractalClustering.ipynb",
      "provenance": [],
      "collapsed_sections": []
    },
    "kernelspec": {
      "name": "python3",
      "display_name": "Python 3"
    },
    "language_info": {
      "name": "python"
    }
  },
  "cells": [
    {
      "cell_type": "markdown",
      "metadata": {
        "id": "1DoR2No-6P0h"
      },
      "source": [
        "**Fractal Clustering**\n",
        "\n",
        "Dataset used: Amazon reviews. \n",
        "\n",
        "●\tBusiness Task: \n",
        "\n",
        "* Sentiment analysis of customer reviews.\n",
        "* Identifying performing product categories based on user reviews.\n",
        "\n"
      ]
    },
    {
      "cell_type": "code",
      "metadata": {
        "id": "LwndU1W-B-2I"
      },
      "source": [
        "# importing necessary libraries\n",
        "import pandas as pd\n",
        "import gdown\n",
        "import json\n",
        "from sklearn.mixture import GaussianMixture\n",
        "import seaborn as sns\n",
        "from sklearn import preprocessing\n",
        "from sklearn.cluster import KMeans\n",
        "from matplotlib import pyplot as plt\n",
        "%matplotlib inline\n",
        "import helper"
      ],
      "execution_count": 194,
      "outputs": []
    },
    {
      "cell_type": "code",
      "metadata": {
        "colab": {
          "base_uri": "https://localhost:8080/",
          "height": 103
        },
        "id": "-YX6ShBPCCC7",
        "outputId": "b9752128-513d-4d18-d3b1-2d28c8d890fa"
      },
      "source": [
        "#to load file from google drive\n",
        "url='https://drive.google.com/uc?id=1ZywS6lpGjdy3pQoSU25JvWwbIp-9hv21'\n",
        "\n",
        "\n",
        "output= \"data.json\"\n",
        "gdown.download(url,output,quiet=False)"
      ],
      "execution_count": 195,
      "outputs": [
        {
          "output_type": "stream",
          "name": "stderr",
          "text": [
            "Downloading...\n",
            "From: https://drive.google.com/uc?id=1ZywS6lpGjdy3pQoSU25JvWwbIp-9hv21\n",
            "To: /content/data.json\n",
            "82.0MB [00:00, 87.5MB/s]\n"
          ]
        },
        {
          "output_type": "execute_result",
          "data": {
            "application/vnd.google.colaboratory.intrinsic+json": {
              "type": "string"
            },
            "text/plain": [
              "'data.json'"
            ]
          },
          "metadata": {},
          "execution_count": 195
        }
      ]
    },
    {
      "cell_type": "code",
      "metadata": {
        "id": "qtrVmLWPCFkt"
      },
      "source": [
        "#loading the csv file into pandas dataframe\n",
        "\n",
        "\n",
        "df=pd.read_json(\"data.json\", lines=True)\n",
        "\n"
      ],
      "execution_count": 196,
      "outputs": []
    },
    {
      "cell_type": "code",
      "metadata": {
        "colab": {
          "base_uri": "https://localhost:8080/",
          "height": 572
        },
        "id": "MPXXLYzJCIdn",
        "outputId": "4022981f-2ce0-44f4-c9ec-edb3724d5fe2"
      },
      "source": [
        "df"
      ],
      "execution_count": 179,
      "outputs": [
        {
          "output_type": "execute_result",
          "data": {
            "text/html": [
              "<div>\n",
              "<style scoped>\n",
              "    .dataframe tbody tr th:only-of-type {\n",
              "        vertical-align: middle;\n",
              "    }\n",
              "\n",
              "    .dataframe tbody tr th {\n",
              "        vertical-align: top;\n",
              "    }\n",
              "\n",
              "    .dataframe thead th {\n",
              "        text-align: right;\n",
              "    }\n",
              "</style>\n",
              "<table border=\"1\" class=\"dataframe\">\n",
              "  <thead>\n",
              "    <tr style=\"text-align: right;\">\n",
              "      <th></th>\n",
              "      <th>review_id</th>\n",
              "      <th>product_id</th>\n",
              "      <th>reviewer_id</th>\n",
              "      <th>stars</th>\n",
              "      <th>review_body</th>\n",
              "      <th>review_title</th>\n",
              "      <th>language</th>\n",
              "      <th>product_category</th>\n",
              "      <th>code</th>\n",
              "    </tr>\n",
              "  </thead>\n",
              "  <tbody>\n",
              "    <tr>\n",
              "      <th>0</th>\n",
              "      <td>en_0964290</td>\n",
              "      <td>product_en_0740675</td>\n",
              "      <td>reviewer_en_0342986</td>\n",
              "      <td>1</td>\n",
              "      <td>Arrived broken. Manufacturer defect. Two of th...</td>\n",
              "      <td>I'll spend twice the amount of time boxing up ...</td>\n",
              "      <td>en</td>\n",
              "      <td>furniture</td>\n",
              "      <td>10</td>\n",
              "    </tr>\n",
              "    <tr>\n",
              "      <th>1</th>\n",
              "      <td>en_0690095</td>\n",
              "      <td>product_en_0440378</td>\n",
              "      <td>reviewer_en_0133349</td>\n",
              "      <td>1</td>\n",
              "      <td>the cabinet dot were all detached from backing...</td>\n",
              "      <td>Not use able</td>\n",
              "      <td>en</td>\n",
              "      <td>home_improvement</td>\n",
              "      <td>13</td>\n",
              "    </tr>\n",
              "    <tr>\n",
              "      <th>2</th>\n",
              "      <td>en_0311558</td>\n",
              "      <td>product_en_0399702</td>\n",
              "      <td>reviewer_en_0152034</td>\n",
              "      <td>1</td>\n",
              "      <td>I received my first order of this product and ...</td>\n",
              "      <td>The product is junk.</td>\n",
              "      <td>en</td>\n",
              "      <td>home</td>\n",
              "      <td>12</td>\n",
              "    </tr>\n",
              "    <tr>\n",
              "      <th>3</th>\n",
              "      <td>en_0044972</td>\n",
              "      <td>product_en_0444063</td>\n",
              "      <td>reviewer_en_0656967</td>\n",
              "      <td>1</td>\n",
              "      <td>This product is a piece of shit. Do not buy. D...</td>\n",
              "      <td>Fucking waste of money</td>\n",
              "      <td>en</td>\n",
              "      <td>wireless</td>\n",
              "      <td>30</td>\n",
              "    </tr>\n",
              "    <tr>\n",
              "      <th>4</th>\n",
              "      <td>en_0784379</td>\n",
              "      <td>product_en_0139353</td>\n",
              "      <td>reviewer_en_0757638</td>\n",
              "      <td>1</td>\n",
              "      <td>went through 3 in one day doesn't fit correct ...</td>\n",
              "      <td>bubble</td>\n",
              "      <td>en</td>\n",
              "      <td>pc</td>\n",
              "      <td>22</td>\n",
              "    </tr>\n",
              "    <tr>\n",
              "      <th>...</th>\n",
              "      <td>...</td>\n",
              "      <td>...</td>\n",
              "      <td>...</td>\n",
              "      <td>...</td>\n",
              "      <td>...</td>\n",
              "      <td>...</td>\n",
              "      <td>...</td>\n",
              "      <td>...</td>\n",
              "      <td>...</td>\n",
              "    </tr>\n",
              "    <tr>\n",
              "      <th>199995</th>\n",
              "      <td>en_0046316</td>\n",
              "      <td>product_en_0980158</td>\n",
              "      <td>reviewer_en_0629807</td>\n",
              "      <td>5</td>\n",
              "      <td>Cute slippers, my MIL loved them.</td>\n",
              "      <td>Nice and fit as advertised</td>\n",
              "      <td>en</td>\n",
              "      <td>shoes</td>\n",
              "      <td>25</td>\n",
              "    </tr>\n",
              "    <tr>\n",
              "      <th>199996</th>\n",
              "      <td>en_0956024</td>\n",
              "      <td>product_en_0954574</td>\n",
              "      <td>reviewer_en_0459072</td>\n",
              "      <td>5</td>\n",
              "      <td>My 6 year old likes this and keeps him engaged...</td>\n",
              "      <td>good to keep the kids engaged</td>\n",
              "      <td>en</td>\n",
              "      <td>toy</td>\n",
              "      <td>27</td>\n",
              "    </tr>\n",
              "    <tr>\n",
              "      <th>199997</th>\n",
              "      <td>en_0589358</td>\n",
              "      <td>product_en_0402982</td>\n",
              "      <td>reviewer_en_0199163</td>\n",
              "      <td>5</td>\n",
              "      <td>Replaced my battery with it. Works like new.</td>\n",
              "      <td>This works</td>\n",
              "      <td>en</td>\n",
              "      <td>wireless</td>\n",
              "      <td>30</td>\n",
              "    </tr>\n",
              "    <tr>\n",
              "      <th>199998</th>\n",
              "      <td>en_0970602</td>\n",
              "      <td>product_en_0873374</td>\n",
              "      <td>reviewer_en_0590563</td>\n",
              "      <td>5</td>\n",
              "      <td>I like them, holding up well.</td>\n",
              "      <td>Well made.</td>\n",
              "      <td>en</td>\n",
              "      <td>industrial_supplies</td>\n",
              "      <td>14</td>\n",
              "    </tr>\n",
              "    <tr>\n",
              "      <th>199999</th>\n",
              "      <td>en_0750030</td>\n",
              "      <td>product_en_0843981</td>\n",
              "      <td>reviewer_en_0775729</td>\n",
              "      <td>5</td>\n",
              "      <td>Very good for my village lights are bright I l...</td>\n",
              "      <td>Very good for my village lights are bright I l...</td>\n",
              "      <td>en</td>\n",
              "      <td>home</td>\n",
              "      <td>12</td>\n",
              "    </tr>\n",
              "  </tbody>\n",
              "</table>\n",
              "<p>200000 rows × 9 columns</p>\n",
              "</div>"
            ],
            "text/plain": [
              "         review_id          product_id  ...     product_category  code\n",
              "0       en_0964290  product_en_0740675  ...            furniture    10\n",
              "1       en_0690095  product_en_0440378  ...     home_improvement    13\n",
              "2       en_0311558  product_en_0399702  ...                 home    12\n",
              "3       en_0044972  product_en_0444063  ...             wireless    30\n",
              "4       en_0784379  product_en_0139353  ...                   pc    22\n",
              "...            ...                 ...  ...                  ...   ...\n",
              "199995  en_0046316  product_en_0980158  ...                shoes    25\n",
              "199996  en_0956024  product_en_0954574  ...                  toy    27\n",
              "199997  en_0589358  product_en_0402982  ...             wireless    30\n",
              "199998  en_0970602  product_en_0873374  ...  industrial_supplies    14\n",
              "199999  en_0750030  product_en_0843981  ...                 home    12\n",
              "\n",
              "[200000 rows x 9 columns]"
            ]
          },
          "metadata": {},
          "execution_count": 179
        }
      ]
    },
    {
      "cell_type": "code",
      "metadata": {
        "colab": {
          "base_uri": "https://localhost:8080/"
        },
        "id": "Ai1DfD7zSn0G",
        "outputId": "d0dc0efa-63d7-43c4-f521-ceb251480f29"
      },
      "source": [
        "#display all the unique values present in the dataset.\n",
        "df.product_category.unique()"
      ],
      "execution_count": 197,
      "outputs": [
        {
          "output_type": "execute_result",
          "data": {
            "text/plain": [
              "array(['furniture', 'home_improvement', 'home', 'wireless', 'pc',\n",
              "       'industrial_supplies', 'kitchen', 'apparel', 'automotive',\n",
              "       'camera', 'lawn_and_garden', 'watch', 'beauty', 'pet_products',\n",
              "       'drugstore', 'electronics', 'toy', 'digital_ebook_purchase',\n",
              "       'book', 'jewelry', 'sports', 'other', 'baby_product',\n",
              "       'video_games', 'office_product', 'grocery',\n",
              "       'digital_video_download', 'luggage', 'shoes',\n",
              "       'musical_instruments', 'personal_care_appliances'], dtype=object)"
            ]
          },
          "metadata": {},
          "execution_count": 197
        }
      ]
    },
    {
      "cell_type": "code",
      "metadata": {
        "id": "3Mmi0YvFbRb1"
      },
      "source": [
        "#converting product category into integer values to form clustering between category and stars.\n",
        "df.product_category = pd.Categorical(df.product_category)\n",
        "df['code'] = df.product_category.cat.codes\n",
        "df.code"
      ],
      "execution_count": 198,
      "outputs": []
    },
    {
      "cell_type": "code",
      "metadata": {
        "colab": {
          "base_uri": "https://localhost:8080/"
        },
        "id": "hyFHa4UNblsU",
        "outputId": "11dded1d-bfda-43fb-d277-e4421a639a30"
      },
      "source": [
        "#verfifying if the values are converted correctly\n",
        "df.code.unique()"
      ],
      "execution_count": 201,
      "outputs": [
        {
          "output_type": "execute_result",
          "data": {
            "text/plain": [
              "array([10, 13, 12, 30, 22, 14, 16,  0,  1,  5, 17, 29,  3, 24,  8,  9, 27,\n",
              "        6,  4, 15, 26, 21,  2, 28, 20, 11,  7, 18, 25, 19, 23], dtype=int8)"
            ]
          },
          "metadata": {},
          "execution_count": 201
        }
      ]
    },
    {
      "cell_type": "code",
      "metadata": {
        "colab": {
          "base_uri": "https://localhost:8080/",
          "height": 572
        },
        "id": "D_SFsGGJcmfk",
        "outputId": "8e86e213-8e2c-419f-e1da-e70081bae762"
      },
      "source": [
        "from sklearn.preprocessing import LabelEncoder\n",
        "\n",
        "LE = LabelEncoder()\n",
        "df['code'] = LE.fit_transform(df['product_category'])\n",
        "df"
      ],
      "execution_count": 202,
      "outputs": [
        {
          "output_type": "execute_result",
          "data": {
            "text/html": [
              "<div>\n",
              "<style scoped>\n",
              "    .dataframe tbody tr th:only-of-type {\n",
              "        vertical-align: middle;\n",
              "    }\n",
              "\n",
              "    .dataframe tbody tr th {\n",
              "        vertical-align: top;\n",
              "    }\n",
              "\n",
              "    .dataframe thead th {\n",
              "        text-align: right;\n",
              "    }\n",
              "</style>\n",
              "<table border=\"1\" class=\"dataframe\">\n",
              "  <thead>\n",
              "    <tr style=\"text-align: right;\">\n",
              "      <th></th>\n",
              "      <th>review_id</th>\n",
              "      <th>product_id</th>\n",
              "      <th>reviewer_id</th>\n",
              "      <th>stars</th>\n",
              "      <th>review_body</th>\n",
              "      <th>review_title</th>\n",
              "      <th>language</th>\n",
              "      <th>product_category</th>\n",
              "      <th>code</th>\n",
              "    </tr>\n",
              "  </thead>\n",
              "  <tbody>\n",
              "    <tr>\n",
              "      <th>0</th>\n",
              "      <td>en_0964290</td>\n",
              "      <td>product_en_0740675</td>\n",
              "      <td>reviewer_en_0342986</td>\n",
              "      <td>1</td>\n",
              "      <td>Arrived broken. Manufacturer defect. Two of th...</td>\n",
              "      <td>I'll spend twice the amount of time boxing up ...</td>\n",
              "      <td>en</td>\n",
              "      <td>furniture</td>\n",
              "      <td>10</td>\n",
              "    </tr>\n",
              "    <tr>\n",
              "      <th>1</th>\n",
              "      <td>en_0690095</td>\n",
              "      <td>product_en_0440378</td>\n",
              "      <td>reviewer_en_0133349</td>\n",
              "      <td>1</td>\n",
              "      <td>the cabinet dot were all detached from backing...</td>\n",
              "      <td>Not use able</td>\n",
              "      <td>en</td>\n",
              "      <td>home_improvement</td>\n",
              "      <td>13</td>\n",
              "    </tr>\n",
              "    <tr>\n",
              "      <th>2</th>\n",
              "      <td>en_0311558</td>\n",
              "      <td>product_en_0399702</td>\n",
              "      <td>reviewer_en_0152034</td>\n",
              "      <td>1</td>\n",
              "      <td>I received my first order of this product and ...</td>\n",
              "      <td>The product is junk.</td>\n",
              "      <td>en</td>\n",
              "      <td>home</td>\n",
              "      <td>12</td>\n",
              "    </tr>\n",
              "    <tr>\n",
              "      <th>3</th>\n",
              "      <td>en_0044972</td>\n",
              "      <td>product_en_0444063</td>\n",
              "      <td>reviewer_en_0656967</td>\n",
              "      <td>1</td>\n",
              "      <td>This product is a piece of shit. Do not buy. D...</td>\n",
              "      <td>Fucking waste of money</td>\n",
              "      <td>en</td>\n",
              "      <td>wireless</td>\n",
              "      <td>30</td>\n",
              "    </tr>\n",
              "    <tr>\n",
              "      <th>4</th>\n",
              "      <td>en_0784379</td>\n",
              "      <td>product_en_0139353</td>\n",
              "      <td>reviewer_en_0757638</td>\n",
              "      <td>1</td>\n",
              "      <td>went through 3 in one day doesn't fit correct ...</td>\n",
              "      <td>bubble</td>\n",
              "      <td>en</td>\n",
              "      <td>pc</td>\n",
              "      <td>22</td>\n",
              "    </tr>\n",
              "    <tr>\n",
              "      <th>...</th>\n",
              "      <td>...</td>\n",
              "      <td>...</td>\n",
              "      <td>...</td>\n",
              "      <td>...</td>\n",
              "      <td>...</td>\n",
              "      <td>...</td>\n",
              "      <td>...</td>\n",
              "      <td>...</td>\n",
              "      <td>...</td>\n",
              "    </tr>\n",
              "    <tr>\n",
              "      <th>199995</th>\n",
              "      <td>en_0046316</td>\n",
              "      <td>product_en_0980158</td>\n",
              "      <td>reviewer_en_0629807</td>\n",
              "      <td>5</td>\n",
              "      <td>Cute slippers, my MIL loved them.</td>\n",
              "      <td>Nice and fit as advertised</td>\n",
              "      <td>en</td>\n",
              "      <td>shoes</td>\n",
              "      <td>25</td>\n",
              "    </tr>\n",
              "    <tr>\n",
              "      <th>199996</th>\n",
              "      <td>en_0956024</td>\n",
              "      <td>product_en_0954574</td>\n",
              "      <td>reviewer_en_0459072</td>\n",
              "      <td>5</td>\n",
              "      <td>My 6 year old likes this and keeps him engaged...</td>\n",
              "      <td>good to keep the kids engaged</td>\n",
              "      <td>en</td>\n",
              "      <td>toy</td>\n",
              "      <td>27</td>\n",
              "    </tr>\n",
              "    <tr>\n",
              "      <th>199997</th>\n",
              "      <td>en_0589358</td>\n",
              "      <td>product_en_0402982</td>\n",
              "      <td>reviewer_en_0199163</td>\n",
              "      <td>5</td>\n",
              "      <td>Replaced my battery with it. Works like new.</td>\n",
              "      <td>This works</td>\n",
              "      <td>en</td>\n",
              "      <td>wireless</td>\n",
              "      <td>30</td>\n",
              "    </tr>\n",
              "    <tr>\n",
              "      <th>199998</th>\n",
              "      <td>en_0970602</td>\n",
              "      <td>product_en_0873374</td>\n",
              "      <td>reviewer_en_0590563</td>\n",
              "      <td>5</td>\n",
              "      <td>I like them, holding up well.</td>\n",
              "      <td>Well made.</td>\n",
              "      <td>en</td>\n",
              "      <td>industrial_supplies</td>\n",
              "      <td>14</td>\n",
              "    </tr>\n",
              "    <tr>\n",
              "      <th>199999</th>\n",
              "      <td>en_0750030</td>\n",
              "      <td>product_en_0843981</td>\n",
              "      <td>reviewer_en_0775729</td>\n",
              "      <td>5</td>\n",
              "      <td>Very good for my village lights are bright I l...</td>\n",
              "      <td>Very good for my village lights are bright I l...</td>\n",
              "      <td>en</td>\n",
              "      <td>home</td>\n",
              "      <td>12</td>\n",
              "    </tr>\n",
              "  </tbody>\n",
              "</table>\n",
              "<p>200000 rows × 9 columns</p>\n",
              "</div>"
            ],
            "text/plain": [
              "         review_id          product_id  ...     product_category  code\n",
              "0       en_0964290  product_en_0740675  ...            furniture    10\n",
              "1       en_0690095  product_en_0440378  ...     home_improvement    13\n",
              "2       en_0311558  product_en_0399702  ...                 home    12\n",
              "3       en_0044972  product_en_0444063  ...             wireless    30\n",
              "4       en_0784379  product_en_0139353  ...                   pc    22\n",
              "...            ...                 ...  ...                  ...   ...\n",
              "199995  en_0046316  product_en_0980158  ...                shoes    25\n",
              "199996  en_0956024  product_en_0954574  ...                  toy    27\n",
              "199997  en_0589358  product_en_0402982  ...             wireless    30\n",
              "199998  en_0970602  product_en_0873374  ...  industrial_supplies    14\n",
              "199999  en_0750030  product_en_0843981  ...                 home    12\n",
              "\n",
              "[200000 rows x 9 columns]"
            ]
          },
          "metadata": {},
          "execution_count": 202
        }
      ]
    },
    {
      "cell_type": "code",
      "metadata": {
        "colab": {
          "base_uri": "https://localhost:8080/",
          "height": 419
        },
        "id": "-ngrTyl-c2M8",
        "outputId": "79fc2cd3-31b1-4cc4-d7c0-fb165647c71c"
      },
      "source": [
        "#dropping all unwanted data\n",
        "df2=df.drop(['review_title','review_body','review_id',\"reviewer_id\",'product_id','language','product_category' ],axis=1)\n",
        "# df2=df.drop(',axis=1\t)\n",
        "# df2=df.drop('reviewer_id',axis=1)\n",
        "# df2=df.drop('review_body',axis=1)\n",
        "# df2=df.drop('review_title',axis=1)\n",
        "df2"
      ],
      "execution_count": 238,
      "outputs": [
        {
          "output_type": "execute_result",
          "data": {
            "text/html": [
              "<div>\n",
              "<style scoped>\n",
              "    .dataframe tbody tr th:only-of-type {\n",
              "        vertical-align: middle;\n",
              "    }\n",
              "\n",
              "    .dataframe tbody tr th {\n",
              "        vertical-align: top;\n",
              "    }\n",
              "\n",
              "    .dataframe thead th {\n",
              "        text-align: right;\n",
              "    }\n",
              "</style>\n",
              "<table border=\"1\" class=\"dataframe\">\n",
              "  <thead>\n",
              "    <tr style=\"text-align: right;\">\n",
              "      <th></th>\n",
              "      <th>stars</th>\n",
              "      <th>code</th>\n",
              "    </tr>\n",
              "  </thead>\n",
              "  <tbody>\n",
              "    <tr>\n",
              "      <th>0</th>\n",
              "      <td>1</td>\n",
              "      <td>10</td>\n",
              "    </tr>\n",
              "    <tr>\n",
              "      <th>1</th>\n",
              "      <td>1</td>\n",
              "      <td>13</td>\n",
              "    </tr>\n",
              "    <tr>\n",
              "      <th>2</th>\n",
              "      <td>1</td>\n",
              "      <td>12</td>\n",
              "    </tr>\n",
              "    <tr>\n",
              "      <th>3</th>\n",
              "      <td>1</td>\n",
              "      <td>30</td>\n",
              "    </tr>\n",
              "    <tr>\n",
              "      <th>4</th>\n",
              "      <td>1</td>\n",
              "      <td>22</td>\n",
              "    </tr>\n",
              "    <tr>\n",
              "      <th>...</th>\n",
              "      <td>...</td>\n",
              "      <td>...</td>\n",
              "    </tr>\n",
              "    <tr>\n",
              "      <th>199995</th>\n",
              "      <td>5</td>\n",
              "      <td>25</td>\n",
              "    </tr>\n",
              "    <tr>\n",
              "      <th>199996</th>\n",
              "      <td>5</td>\n",
              "      <td>27</td>\n",
              "    </tr>\n",
              "    <tr>\n",
              "      <th>199997</th>\n",
              "      <td>5</td>\n",
              "      <td>30</td>\n",
              "    </tr>\n",
              "    <tr>\n",
              "      <th>199998</th>\n",
              "      <td>5</td>\n",
              "      <td>14</td>\n",
              "    </tr>\n",
              "    <tr>\n",
              "      <th>199999</th>\n",
              "      <td>5</td>\n",
              "      <td>12</td>\n",
              "    </tr>\n",
              "  </tbody>\n",
              "</table>\n",
              "<p>200000 rows × 2 columns</p>\n",
              "</div>"
            ],
            "text/plain": [
              "        stars  code\n",
              "0           1    10\n",
              "1           1    13\n",
              "2           1    12\n",
              "3           1    30\n",
              "4           1    22\n",
              "...       ...   ...\n",
              "199995      5    25\n",
              "199996      5    27\n",
              "199997      5    30\n",
              "199998      5    14\n",
              "199999      5    12\n",
              "\n",
              "[200000 rows x 2 columns]"
            ]
          },
          "metadata": {},
          "execution_count": 238
        }
      ]
    },
    {
      "cell_type": "code",
      "metadata": {
        "id": "9IIQ__3ogXlh"
      },
      "source": [
        "le = preprocessing.LabelEncoder()\n",
        "\n",
        "labelencoderlist=['code','stars']"
      ],
      "execution_count": 239,
      "outputs": []
    },
    {
      "cell_type": "code",
      "metadata": {
        "id": "ooNxswuNhONk"
      },
      "source": [
        "Sum_of_squared_distances = []\n",
        "K = range(1,10)\n",
        "for k in K:\n",
        "    km = KMeans(n_clusters=k)\n",
        "    km = km.fit(df2)\n",
        "    Sum_of_squared_distances.append(km.inertia_)"
      ],
      "execution_count": 240,
      "outputs": []
    },
    {
      "cell_type": "code",
      "metadata": {
        "colab": {
          "base_uri": "https://localhost:8080/",
          "height": 295
        },
        "id": "unhPSyNkmmZY",
        "outputId": "82a435fc-c952-4e5c-95bf-22247050b61f"
      },
      "source": [
        "#applying elbow method to calculate the K value\n",
        "plt.plot(K, Sum_of_squared_distances, 'bx-')\n",
        "plt.xlabel('k')\n",
        "plt.ylabel('Sum_of_squared_distances')\n",
        "plt.title('Elbow Method For Optimal k')\n",
        "plt.show()"
      ],
      "execution_count": 267,
      "outputs": [
        {
          "output_type": "display_data",
          "data": {
            "image/png": "[encoded data removed]",
            "text/plain": [
              "<Figure size 432x288 with 1 Axes>"
            ]
          },
          "metadata": {
            "needs_background": "light"
          }
        }
      ]
    },
    {
      "cell_type": "code",
      "metadata": {
        "colab": {
          "base_uri": "https://localhost:8080/"
        },
        "id": "w4VOOyoXmy0g",
        "outputId": "3fbf2057-2e04-475d-99aa-0aec2b938276"
      },
      "source": [
        "df2 = df2[['stars','code']]\n",
        "kmeans = KMeans(n_clusters=5)\n",
        "y = kmeans.fit_predict(df2)\n",
        "print(df2.head())"
      ],
      "execution_count": 268,
      "outputs": [
        {
          "output_type": "stream",
          "name": "stdout",
          "text": [
            "   stars  code\n",
            "0      1    10\n",
            "1      1    13\n",
            "2      1    12\n",
            "3      1    30\n",
            "4      1    22\n"
          ]
        }
      ]
    },
    {
      "cell_type": "code",
      "metadata": {
        "colab": {
          "base_uri": "https://localhost:8080/"
        },
        "id": "Lz2CUx1fnGFB",
        "outputId": "b0154dc8-2bef-4e34-82e2-39360726b68e"
      },
      "source": [
        "kmeans.cluster_centers_"
      ],
      "execution_count": 269,
      "outputs": [
        {
          "output_type": "execute_result",
          "data": {
            "text/plain": [
              "array([[ 1.8677231 ,  2.01659716],\n",
              "       [ 1.79722621, 22.15771295],\n",
              "       [ 1.7819161 , 10.49218691],\n",
              "       [ 1.75487951, 28.37106095],\n",
              "       [ 1.77859601, 16.26174658]])"
            ]
          },
          "metadata": {},
          "execution_count": 269
        }
      ]
    },
    {
      "cell_type": "code",
      "metadata": {
        "colab": {
          "base_uri": "https://localhost:8080/",
          "height": 880
        },
        "id": "BY6wFMqHnJ8G",
        "outputId": "754f40ca-0872-4e07-daf1-9777e72c3056"
      },
      "source": [
        "plt.figure(1,figsize=(15,15))\n",
        "plt.scatter(df2.stars, df2.code, c=kmeans.labels_, cmap='rainbow')\n",
        "plt.scatter(kmeans.cluster_centers_[:,0] ,kmeans.cluster_centers_[:,1], color='black')"
      ],
      "execution_count": 244,
      "outputs": [
        {
          "output_type": "execute_result",
          "data": {
            "text/plain": [
              "<matplotlib.collections.PathCollection at 0x7f5efb7afa10>"
            ]
          },
          "metadata": {},
          "execution_count": 244
        },
        {
          "output_type": "display_data",
          "data": {
            "image/png": "[encoded data removed]",
            "text/plain": [
              "<Figure size 1080x1080 with 1 Axes>"
            ]
          },
          "metadata": {
            "needs_background": "light"
          }
        }
      ]
    },
    {
      "cell_type": "code",
      "metadata": {
        "colab": {
          "base_uri": "https://localhost:8080/"
        },
        "id": "puUOQsiwyW61",
        "outputId": "6141a1b7-5b0b-4297-fdcc-e2cb4bc512df"
      },
      "source": [
        "df['stars'].value_counts"
      ],
      "execution_count": 270,
      "outputs": [
        {
          "output_type": "execute_result",
          "data": {
            "text/plain": [
              "<bound method IndexOpsMixin.value_counts of 0         1\n",
              "1         1\n",
              "2         1\n",
              "3         1\n",
              "4         1\n",
              "         ..\n",
              "199995    5\n",
              "199996    5\n",
              "199997    5\n",
              "199998    5\n",
              "199999    5\n",
              "Name: stars, Length: 200000, dtype: int64>"
            ]
          },
          "metadata": {},
          "execution_count": 270
        }
      ]
    },
    {
      "cell_type": "code",
      "metadata": {
        "colab": {
          "base_uri": "https://localhost:8080/"
        },
        "id": "PbyykgALymvb",
        "outputId": "598dc3b2-387d-45fb-cb66-4b935c34fe9d"
      },
      "source": [
        "df3=df2\n",
        "df3=df3[:100000]\n",
        "iem_counts = df3[\"stars\"].value_counts(normalize=False)\n",
        "print(iem_counts)"
      ],
      "execution_count": 271,
      "outputs": [
        {
          "output_type": "stream",
          "name": "stdout",
          "text": [
            "2    40000\n",
            "1    40000\n",
            "3    20000\n",
            "Name: stars, dtype: int64\n"
          ]
        }
      ]
    },
    {
      "cell_type": "markdown",
      "metadata": {
        "id": "_c_OCCRG6Skv"
      },
      "source": [
        "As we can see all reviews have same number of reveiws provieded, applying insight to see how review for star=1 is distributed. "
      ]
    },
    {
      "cell_type": "code",
      "metadata": {
        "colab": {
          "base_uri": "https://localhost:8080/",
          "height": 419
        },
        "id": "DmnGUd9Itlcr",
        "outputId": "034830c6-990a-410e-c015-6f7b8d5030a4"
      },
      "source": [
        "df4=df3.loc[df['stars'] == 1]\n",
        "df4"
      ],
      "execution_count": 251,
      "outputs": [
        {
          "output_type": "execute_result",
          "data": {
            "text/html": [
              "<div>\n",
              "<style scoped>\n",
              "    .dataframe tbody tr th:only-of-type {\n",
              "        vertical-align: middle;\n",
              "    }\n",
              "\n",
              "    .dataframe tbody tr th {\n",
              "        vertical-align: top;\n",
              "    }\n",
              "\n",
              "    .dataframe thead th {\n",
              "        text-align: right;\n",
              "    }\n",
              "</style>\n",
              "<table border=\"1\" class=\"dataframe\">\n",
              "  <thead>\n",
              "    <tr style=\"text-align: right;\">\n",
              "      <th></th>\n",
              "      <th>stars</th>\n",
              "      <th>code</th>\n",
              "    </tr>\n",
              "  </thead>\n",
              "  <tbody>\n",
              "    <tr>\n",
              "      <th>0</th>\n",
              "      <td>1</td>\n",
              "      <td>10</td>\n",
              "    </tr>\n",
              "    <tr>\n",
              "      <th>1</th>\n",
              "      <td>1</td>\n",
              "      <td>13</td>\n",
              "    </tr>\n",
              "    <tr>\n",
              "      <th>2</th>\n",
              "      <td>1</td>\n",
              "      <td>12</td>\n",
              "    </tr>\n",
              "    <tr>\n",
              "      <th>3</th>\n",
              "      <td>1</td>\n",
              "      <td>30</td>\n",
              "    </tr>\n",
              "    <tr>\n",
              "      <th>4</th>\n",
              "      <td>1</td>\n",
              "      <td>22</td>\n",
              "    </tr>\n",
              "    <tr>\n",
              "      <th>...</th>\n",
              "      <td>...</td>\n",
              "      <td>...</td>\n",
              "    </tr>\n",
              "    <tr>\n",
              "      <th>39995</th>\n",
              "      <td>1</td>\n",
              "      <td>1</td>\n",
              "    </tr>\n",
              "    <tr>\n",
              "      <th>39996</th>\n",
              "      <td>1</td>\n",
              "      <td>30</td>\n",
              "    </tr>\n",
              "    <tr>\n",
              "      <th>39997</th>\n",
              "      <td>1</td>\n",
              "      <td>11</td>\n",
              "    </tr>\n",
              "    <tr>\n",
              "      <th>39998</th>\n",
              "      <td>1</td>\n",
              "      <td>1</td>\n",
              "    </tr>\n",
              "    <tr>\n",
              "      <th>39999</th>\n",
              "      <td>1</td>\n",
              "      <td>30</td>\n",
              "    </tr>\n",
              "  </tbody>\n",
              "</table>\n",
              "<p>40000 rows × 2 columns</p>\n",
              "</div>"
            ],
            "text/plain": [
              "       stars  code\n",
              "0          1    10\n",
              "1          1    13\n",
              "2          1    12\n",
              "3          1    30\n",
              "4          1    22\n",
              "...      ...   ...\n",
              "39995      1     1\n",
              "39996      1    30\n",
              "39997      1    11\n",
              "39998      1     1\n",
              "39999      1    30\n",
              "\n",
              "[40000 rows x 2 columns]"
            ]
          },
          "metadata": {},
          "execution_count": 251
        }
      ]
    },
    {
      "cell_type": "code",
      "metadata": {
        "id": "_CuLb3idu9oV"
      },
      "source": [
        "le = preprocessing.LabelEncoder()\n",
        "\n",
        "labelencoderlist=['code','stars']"
      ],
      "execution_count": 252,
      "outputs": []
    },
    {
      "cell_type": "code",
      "metadata": {
        "id": "73vcQZpa18e2"
      },
      "source": [
        "Sum_of_squared_distances = []\n",
        "K = range(1,10)\n",
        "for k in K:\n",
        "    km = KMeans(n_clusters=k)\n",
        "    km = km.fit(df4)\n",
        "    Sum_of_squared_distances.append(km.inertia_)"
      ],
      "execution_count": 262,
      "outputs": []
    },
    {
      "cell_type": "code",
      "metadata": {
        "colab": {
          "base_uri": "https://localhost:8080/",
          "height": 295
        },
        "id": "vnA9r0g42qxU",
        "outputId": "6c0b3d6b-c3d0-4d40-d76f-92a8aac6a349"
      },
      "source": [
        "plt.plot(K, Sum_of_squared_distances, 'bx-')\n",
        "plt.xlabel('k')\n",
        "plt.ylabel('Sum_of_squared_distances')\n",
        "plt.title('Elbow Method For Optimal k')\n",
        "plt.show()"
      ],
      "execution_count": 263,
      "outputs": [
        {
          "output_type": "display_data",
          "data": {
            "image/png": "[encoded data removed]",
            "text/plain": [
              "<Figure size 432x288 with 1 Axes>"
            ]
          },
          "metadata": {
            "needs_background": "light"
          }
        }
      ]
    },
    {
      "cell_type": "code",
      "metadata": {
        "colab": {
          "base_uri": "https://localhost:8080/"
        },
        "id": "AhSunS2U2xtg",
        "outputId": "ab2c12a3-1437-4b89-f0a8-90d84f4417cc"
      },
      "source": [
        "df4 = df4[['stars','code']]\n",
        "kmeans = KMeans(n_clusters=1)\n",
        "y = kmeans.fit_predict(df4)\n",
        "print(df4.head())"
      ],
      "execution_count": 264,
      "outputs": [
        {
          "output_type": "stream",
          "name": "stdout",
          "text": [
            "   stars  code\n",
            "0      1    10\n",
            "1      1    13\n",
            "2      1    12\n",
            "3      1    30\n",
            "4      1    22\n"
          ]
        }
      ]
    },
    {
      "cell_type": "code",
      "metadata": {
        "colab": {
          "base_uri": "https://localhost:8080/",
          "height": 880
        },
        "id": "rF8xJH66259-",
        "outputId": "74f50fa8-07bf-4adc-f390-15c136e9fec9"
      },
      "source": [
        "plt.figure(1,figsize=(15,15))\n",
        "plt.scatter(df4.stars, df4.code, c=kmeans.labels_, cmap='rainbow')\n",
        "plt.scatter(kmeans.cluster_centers_[:,0] ,kmeans.cluster_centers_[:,1], color='black')"
      ],
      "execution_count": 266,
      "outputs": [
        {
          "output_type": "execute_result",
          "data": {
            "text/plain": [
              "<matplotlib.collections.PathCollection at 0x7f5efbc0c9d0>"
            ]
          },
          "metadata": {},
          "execution_count": 266
        },
        {
          "output_type": "display_data",
          "data": {
            "image/png": "[encoded data removed]",
            "text/plain": [
              "<Figure size 1080x1080 with 1 Axes>"
            ]
          },
          "metadata": {
            "needs_background": "light"
          }
        }
      ]
    },
    {
      "cell_type": "markdown",
      "metadata": {
        "id": "LkGyQOfH4tgj"
      },
      "source": [
        "Applying Multi Micro k means Clustering To form micro clustering. I applied clustering with K-means with the product categories converted into numbers with reviews. With the objective to find the cluster with higest reveiw to get an insight on it is is as shown in graph above, where the golden cluster is found for count of stars with value=1 is equally distrubuted among all the 30 categories."
      ]
    }
  ]
}